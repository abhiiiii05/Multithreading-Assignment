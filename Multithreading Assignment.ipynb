{
 "cells": [
  {
   "cell_type": "markdown",
   "id": "dd740da9-71db-4801-8cac-1d574dc7347d",
   "metadata": {},
   "source": [
    "### Q1. What is multithreading in python? Why is it used? Name the module used to handle threads in python?"
   ]
  },
  {
   "cell_type": "markdown",
   "id": "dfc3c875-342e-4e4b-a2c0-f5cf901277fd",
   "metadata": {},
   "source": [
    "Multithreading in Python refers to the ability of a program to execute multiple threads simultaneously, allowing it to perform multiple tasks concurrently.\n",
    " Threads are smaller units of a process, enabling the program to handle multiple operations at the same time, particularly useful for tasks that involve waiting for I/O operations or other tasks that can be parallelized.\n",
    " The 'threading' module in Python is commonly used to handle threads."
   ]
  },
  {
   "cell_type": "markdown",
   "id": "472b263b-2c5d-426e-bb20-368159b51c13",
   "metadata": {},
   "source": [
    "### Q2. Why threading module used? Write the use of the following functions:\n",
    "1. activeCount()\n",
    "2. cuurrentThread()\n",
    "3. enumerate()\n"
   ]
  },
  {
   "cell_type": "markdown",
   "id": "374b7630-c99b-4fbd-9526-f899ebb3c748",
   "metadata": {},
   "source": [
    "The threading module in Python is used for creating, controlling, and managing threads in a program.\n",
    "\n",
    "activeCount(): This function returns the number of Thread objects currently active in the program. It's useful for monitoring the number of active\n",
    "               threads at any given point, providing a count of how many threads are running.\n",
    "               \n",
    "currentThread(): It is a function that returns the Thread object representing the current thread. It's handy for accessing information or manipulating                  properties of the thread from within the thread itself. This function is often used for logging, debugging, or thread-specific                        operations.\n",
    "\n",
    "enumerate(): It returns a list of all Thread objects currently active in the program. It's beneficial for obtaining a list of all threads                          that are currently running, making it easier to manage or monitor them collectively."
   ]
  },
  {
   "cell_type": "markdown",
   "id": "1c87906c-7ac8-4922-b95f-df30c502ecd1",
   "metadata": {},
   "source": [
    "### Q3. Explain the following functions:\n",
    "    run()\n",
    "    start()\n",
    "    join()\n",
    "    isAlive()\n"
   ]
  },
  {
   "cell_type": "markdown",
   "id": "2bceff83-b713-4f40-bcc1-34c402296def",
   "metadata": {},
   "source": [
    "run(): This method is part of the Thread class. It represents the activity that a thread performs. When a Thread object is created, you override the run() method with the specific task you want that thread to execute.\n",
    " \n",
    "start(): This method is used to begin the execution of a thread. It initializes the thread and calls the run() method.\n",
    "\n",
    "join(): This method is used to wait for the thread to complete its task. When you call join() on a thread, the program will wait at that point until the thread finishes its execution.\n",
    "\n",
    "isAlive(): This method returns a boolean indicating whether the thread is currently executing (alive) or has completed its task (not alive). It's a way to check if the thread is actively running or has finished its execution."
   ]
  },
  {
   "cell_type": "markdown",
   "id": "0733d278-2d2f-4328-8c12-5274c2fe23dd",
   "metadata": {},
   "source": [
    "### Q4. Write a python program to create two threads. Thread one must print the list of squares and thread two must print the list of cubes.\n"
   ]
  },
  {
   "cell_type": "code",
   "execution_count": 8,
   "id": "1db00120-102f-4c24-9387-8b860ee9f363",
   "metadata": {},
   "outputs": [
    {
     "name": "stdout",
     "output_type": "stream",
     "text": [
      "List of squares:\n",
      "[1, 4, 9, 16, 25, 36, 49, 64, 81, 100]\n",
      "List of cubes:\n",
      "[1, 8, 27, 64, 125, 216, 343, 512, 729, 1000]\n"
     ]
    }
   ],
   "source": [
    "import threading\n",
    "\n",
    "def print_squares():\n",
    "    squares = [i * i for i in range(1, 11)]\n",
    "    print(\"List of squares:\")\n",
    "    print(squares)\n",
    "\n",
    "def print_cubes():\n",
    "    cubes = [i ** 3 for i in range(1, 11)]\n",
    "    print(\"List of cubes:\")\n",
    "    print(cubes)\n",
    "\n",
    "thread1 = threading.Thread(target=print_squares)\n",
    "thread2 = threading.Thread(target=print_cubes)\n",
    "\n",
    "thread1.start()\n",
    "thread2.start()"
   ]
  },
  {
   "cell_type": "markdown",
   "id": "d2060801-e882-439a-b5c6-435b0026fdfa",
   "metadata": {},
   "source": [
    "### Q5. State advantages and disadvantages of multithreading."
   ]
  },
  {
   "cell_type": "markdown",
   "id": "ce3cbf46-f7a0-4947-9241-ab126c0b37c8",
   "metadata": {},
   "source": [
    "Advantages of Multithreading:\n",
    "\n",
    "Improved Performance: Enables concurrent execution, utilizing system resources more efficiently.\n",
    "\n",
    "Responsiveness: Keeps applications active during I/O waits or parallel tasks.\n",
    "\n",
    "Resource Sharing: Threads within a process can share memory, enabling efficient data exchange.\n",
    "\n",
    "\n",
    "Disadvantages of Multithreading:\n",
    "\n",
    "Complexity: Adds complexity to application design and debugging.\n",
    "\n",
    "Resource Overhead: Threads consume system resources, potentially leading to overhead.\n",
    "\n",
    "Synchronization Challenges: Ensuring proper synchronization among threads can be difficult and prone to issues like deadlocks."
   ]
  },
  {
   "cell_type": "markdown",
   "id": "a86fec3f-92aa-467a-8fd4-f9fd5abac0b5",
   "metadata": {},
   "source": [
    "### Q6. Explain deadlocks and race conditions."
   ]
  },
  {
   "cell_type": "markdown",
   "id": "c281bfca-d840-40eb-b776-f20e2f9421f3",
   "metadata": {},
   "source": [
    "Deadlocks: Threads are stuck waiting for each other to release resources, leading to a standstill. There is a complete halt in program execution.\n",
    "\n",
    "Race Conditions: Multiple threads accessing shared data concurrently, leading to unpredictable outcomes. It effects in incorrect or unexpected results in program output."
   ]
  },
  {
   "cell_type": "code",
   "execution_count": null,
   "id": "dcd0e8a3-8664-4735-8243-e226e42597b1",
   "metadata": {},
   "outputs": [],
   "source": []
  }
 ],
 "metadata": {
  "kernelspec": {
   "display_name": "Python 3 (ipykernel)",
   "language": "python",
   "name": "python3"
  },
  "language_info": {
   "codemirror_mode": {
    "name": "ipython",
    "version": 3
   },
   "file_extension": ".py",
   "mimetype": "text/x-python",
   "name": "python",
   "nbconvert_exporter": "python",
   "pygments_lexer": "ipython3",
   "version": "3.10.8"
  }
 },
 "nbformat": 4,
 "nbformat_minor": 5
}
